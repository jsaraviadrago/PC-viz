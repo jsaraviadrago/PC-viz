{
 "cells": [
  {
   "cell_type": "code",
   "id": "initial_id",
   "metadata": {
    "collapsed": true,
    "ExecuteTime": {
     "end_time": "2024-08-22T22:52:36.934815Z",
     "start_time": "2024-08-22T22:52:36.926035Z"
    }
   },
   "source": [
    "import ffmpeg\n",
    "\n"
   ],
   "outputs": [],
   "execution_count": 16
  },
  {
   "metadata": {
    "ExecuteTime": {
     "end_time": "2024-08-22T22:52:39.436243Z",
     "start_time": "2024-08-22T22:52:39.427961Z"
    }
   },
   "cell_type": "code",
   "source": [
    "input_video = \"C:\\\\Users\\\\JuanCarlosSaraviaDra\\\\Dropbox\\\\Object_detection\\\\Maradona_inglaterra_cut_1986_prueba.mp4\"\n",
    "input_audio = \"C:\\\\Users\\\\JuanCarlosSaraviaDra\\\\PycharmProjects\\\\PC-viz\\\\Computer_vision\\\\audio_maradona.mp3\"\n",
    "output_file = 'Maradona_inglaterra_cut_1986_vision_audio.mp4'\n",
    "\n"
   ],
   "id": "447f2ec4e095f016",
   "outputs": [],
   "execution_count": 17
  },
  {
   "metadata": {
    "ExecuteTime": {
     "end_time": "2024-08-22T22:52:49.478381Z",
     "start_time": "2024-08-22T22:52:49.442313Z"
    }
   },
   "cell_type": "code",
   "source": "ffmpeg.input(input_video).output(output_file, audio=input_audio).run()",
   "id": "c19c2b77b89148cc",
   "outputs": [
    {
     "ename": "AttributeError",
     "evalue": "module 'ffmpeg' has no attribute 'input'",
     "output_type": "error",
     "traceback": [
      "\u001B[1;31m---------------------------------------------------------------------------\u001B[0m",
      "\u001B[1;31mAttributeError\u001B[0m                            Traceback (most recent call last)",
      "Cell \u001B[1;32mIn[18], line 1\u001B[0m\n\u001B[1;32m----> 1\u001B[0m \u001B[43mffmpeg\u001B[49m\u001B[38;5;241;43m.\u001B[39;49m\u001B[43minput\u001B[49m(input_video)\u001B[38;5;241m.\u001B[39moutput(output_file, audio\u001B[38;5;241m=\u001B[39minput_audio)\u001B[38;5;241m.\u001B[39mrun()\n",
      "\u001B[1;31mAttributeError\u001B[0m: module 'ffmpeg' has no attribute 'input'"
     ]
    }
   ],
   "execution_count": 18
  },
  {
   "metadata": {},
   "cell_type": "code",
   "outputs": [],
   "execution_count": null,
   "source": "",
   "id": "66c9282bf8abdc8a"
  }
 ],
 "metadata": {
  "kernelspec": {
   "display_name": "Python 3",
   "language": "python",
   "name": "python3"
  },
  "language_info": {
   "codemirror_mode": {
    "name": "ipython",
    "version": 2
   },
   "file_extension": ".py",
   "mimetype": "text/x-python",
   "name": "python",
   "nbconvert_exporter": "python",
   "pygments_lexer": "ipython2",
   "version": "2.7.6"
  }
 },
 "nbformat": 4,
 "nbformat_minor": 5
}
