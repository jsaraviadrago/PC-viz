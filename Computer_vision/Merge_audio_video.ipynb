{
 "cells": [
  {
   "cell_type": "code",
   "id": "initial_id",
   "metadata": {
    "collapsed": true,
    "ExecuteTime": {
     "end_time": "2024-08-23T16:37:10.093401Z",
     "start_time": "2024-08-23T16:37:10.088146Z"
    }
   },
   "source": "import ffmpeg\n",
   "outputs": [],
   "execution_count": 31
  },
  {
   "metadata": {
    "ExecuteTime": {
     "end_time": "2024-08-23T16:37:13.542057Z",
     "start_time": "2024-08-23T16:37:13.524551Z"
    }
   },
   "cell_type": "code",
   "source": [
    "input_video = r\"C:\\Comp_vision\\Maradona_inglaterra_cut_1986_vision_prueba.mp4\"\n",
    "input_audio = r\"C:\\Comp_vision\\audio_maradona.mp3\"\n",
    "output_file = 'Maradona_inglaterra_cut_1986_vision_audio.mp4'\n"
   ],
   "id": "447f2ec4e095f016",
   "outputs": [],
   "execution_count": 32
  },
  {
   "metadata": {},
   "cell_type": "code",
   "source": "ffmpeg.input(input_video).output(output_file, audio=input_audio).run()\n",
   "id": "c19c2b77b89148cc",
   "outputs": [],
   "execution_count": null
  },
  {
   "metadata": {},
   "cell_type": "markdown",
   "source": [
    "### Otra forma de hacer esto\n",
    "\n",
    "Con ffmpeg se puede también realizar esto directamente. \n",
    "\n",
    "**Paso 1:**\n",
    "\n",
    "Descargar ffmpeg de [aquí](https://ffmpeg.org/). \n",
    "\n",
    "**Paso 2:**\n",
    "\n",
    "Entrar a la terminal e ir a la carpeta donde está el audio y el video.\n",
    "\n",
    "**Paso 3:**\n",
    "\n",
    "\n",
    "\n"
   ],
   "id": "9d21ee288c1d16fc"
  }
 ],
 "metadata": {
  "kernelspec": {
   "display_name": "Python 3",
   "language": "python",
   "name": "python3"
  },
  "language_info": {
   "codemirror_mode": {
    "name": "ipython",
    "version": 2
   },
   "file_extension": ".py",
   "mimetype": "text/x-python",
   "name": "python",
   "nbconvert_exporter": "python",
   "pygments_lexer": "ipython2",
   "version": "2.7.6"
  }
 },
 "nbformat": 4,
 "nbformat_minor": 5
}
