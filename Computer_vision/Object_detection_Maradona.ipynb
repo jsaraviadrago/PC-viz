{
 "cells": [
  {
   "metadata": {},
   "cell_type": "markdown",
   "source": "# Maradona versus Inglaterra 1986 computer vision",
   "id": "c94b5bc0ca759c8e"
  },
  {
   "cell_type": "code",
   "id": "initial_id",
   "metadata": {
    "collapsed": true,
    "ExecuteTime": {
     "end_time": "2024-08-22T20:05:57.845908Z",
     "start_time": "2024-08-22T20:05:45.047037Z"
    }
   },
   "source": [
    "import cv2\n",
    "import torch\n",
    "import requests\n",
    "from PIL import Image\n",
    "from transformers import RTDetrForObjectDetection, RTDetrImageProcessor\n",
    "\n",
    "model_name = \"PekingU/rtdetr_r50vd_coco_o365\"\n",
    "image_processor = RTDetrImageProcessor.from_pretrained(model_name)\n",
    "model = RTDetrForObjectDetection.from_pretrained(model_name)"
   ],
   "outputs": [],
   "execution_count": 1
  },
  {
   "metadata": {},
   "cell_type": "code",
   "source": [
    "# Mover el modelo a la GPU si está disponible\n",
    "device = torch.device('cuda' if torch.cuda.is_available() else 'cpu')\n",
    "model.to(device)"
   ],
   "id": "4cd1423c9fa33a1e",
   "outputs": [],
   "execution_count": null
  },
  {
   "metadata": {
    "ExecuteTime": {
     "end_time": "2024-08-22T20:46:09.805031Z",
     "start_time": "2024-08-22T20:06:08.930708Z"
    }
   },
   "cell_type": "code",
   "source": [
    "# Configurar el video\n",
    "video_path = 'C:\\\\Users\\\\JuanCarlosSaraviaDra\\\\Dropbox\\\\Object_detection\\\\Maradona_inglaterra_cut_1986.mp4'\n",
    "output_path = 'C:\\\\Users\\\\JuanCarlosSaraviaDra\\\\Dropbox\\\\Object_detection\\\\Maradona_inglaterra_cut_1986_vision.mp4'\n",
    "cap = cv2.VideoCapture(video_path)\n",
    "\n",
    "# Obtener propiedades del video\n",
    "fps = cap.get(cv2.CAP_PROP_FPS)\n",
    "width = int(cap.get(cv2.CAP_PROP_FRAME_WIDTH))\n",
    "height = int(cap.get(cv2.CAP_PROP_FRAME_HEIGHT))\n",
    "fourcc = cv2.VideoWriter_fourcc(*'mp4v')\n",
    "out = cv2.VideoWriter(output_path, fourcc, fps, (width, height))\n",
    "\n",
    "frame_count = 0\n",
    "last_detections = []  # Para almacenar las últimas detecciones\n",
    "\n",
    "while cap.isOpened():\n",
    "    ret, frame = cap.read()\n",
    "    if not ret:\n",
    "        break\n",
    "\n",
    "    # Procesar solo cada n fotogramas\n",
    "    if frame_count % 1 == 0:\n",
    "        # Convertir el fotograma a una imagen PIL\n",
    "        image = Image.fromarray(cv2.cvtColor(frame, cv2.COLOR_BGR2RGB))\n",
    "\n",
    "        # Procesar la imagen con RTDetr\n",
    "        inputs = image_processor(images=image, return_tensors=\"pt\").to(device)\n",
    "        with torch.no_grad():\n",
    "            outputs = model(**inputs)\n",
    "\n",
    "        results = image_processor.post_process_object_detection(outputs, target_sizes=torch.tensor([image.size[::-1]]), threshold=0.6)\n",
    "\n",
    "        # Actualizar las últimas detecciones\n",
    "        last_detections = []\n",
    "        for result in results:\n",
    "            for score, label_id, box in zip(result[\"scores\"], result[\"labels\"], result[\"boxes\"]):\n",
    "                box = [int(i) for i in box.tolist()]\n",
    "                label = model.config.id2label[label_id.item()]\n",
    "                last_detections.append((box, label, score.item()))\n",
    "\n",
    "    # Dibujar las últimas detecciones en el fotograma actual\n",
    "    for box, label, score in last_detections:\n",
    "        x1, y1, x2, y2 = box\n",
    "        cv2.rectangle(frame, (x1, y1), (x2, y2), (0, 255, 0), 2)\n",
    "        cv2.putText(frame, f\"{label}: {score:.2f}\", (x1, y1 - 10), cv2.FONT_HERSHEY_SIMPLEX, 0.9, (0, 255, 0), 2)\n",
    "\n",
    "    # Escribir el fotograma procesado en el archivo de salida\n",
    "    out.write(frame)\n",
    "    frame_count += 1\n",
    "\n",
    "cap.release()\n",
    "out.release()\n",
    "print(f\"Processed {frame_count} frames and saved to {output_path}\")"
   ],
   "id": "7c995037914c9e2e",
   "outputs": [
    {
     "name": "stdout",
     "output_type": "stream",
     "text": [
      "Processed 476 frames and saved to C:\\Users\\JuanCarlosSaraviaDra\\Dropbox\\Object_detection\\Maradona_inglaterra_cut_1986_vision.mp4\n"
     ]
    }
   ],
   "execution_count": 3
  },
  {
   "metadata": {},
   "cell_type": "code",
   "outputs": [],
   "execution_count": null,
   "source": "",
   "id": "be20fe9101afabae"
  }
 ],
 "metadata": {
  "kernelspec": {
   "display_name": "Python 3",
   "language": "python",
   "name": "python3"
  },
  "language_info": {
   "codemirror_mode": {
    "name": "ipython",
    "version": 2
   },
   "file_extension": ".py",
   "mimetype": "text/x-python",
   "name": "python",
   "nbconvert_exporter": "python",
   "pygments_lexer": "ipython2",
   "version": "2.7.6"
  }
 },
 "nbformat": 4,
 "nbformat_minor": 5
}
