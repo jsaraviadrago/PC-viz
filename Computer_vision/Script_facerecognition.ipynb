{
 "cells": [
  {
   "cell_type": "code",
   "id": "initial_id",
   "metadata": {
    "collapsed": true,
    "ExecuteTime": {
     "end_time": "2024-08-22T14:44:03.861785Z",
     "start_time": "2024-08-22T14:44:03.856796Z"
    }
   },
   "source": [
    "#import warnings\n",
    "#warnings.filterwarnings(\"ignore\", category=UserWarning, message=\"SymbolDatabase.GetPrototype() is deprecated\")\n",
    "\n",
    "import numpy as np\n",
    "import mediapipe as mp\n",
    "import supervision as sv\n",
    "from PIL import Image"
   ],
   "outputs": [],
   "execution_count": 3
  },
  {
   "metadata": {
    "ExecuteTime": {
     "end_time": "2024-08-22T14:46:45.256223Z",
     "start_time": "2024-08-22T14:46:29.828491Z"
    }
   },
   "cell_type": "code",
   "source": [
    "\n",
    "# Initialize MediaPipe FaceMesh model\n",
    "model = mp.solutions.face_mesh.FaceMesh()\n",
    "\n",
    "# Load and convert the image\n",
    "image_path = 'C:\\\\Users\\\\JuanCarlosSaraviaDra\\\\Dropbox\\\\image_recognition\\\\KYC_ejemplo.jpg'\n",
    "image = Image.open(image_path).convert('RGB')\n",
    "\n",
    "# Convert image to numpy array\n",
    "image_np = np.array(image)\n",
    "\n",
    "# Process the image to get face mesh results\n",
    "results = model.process(image_np)\n",
    "\n",
    "# Check if results are not empty\n",
    "if results.multi_face_landmarks:\n",
    "    # Initialize EdgeAnnotator\n",
    "    edge_annotator = sv.EdgeAnnotator(color=sv.Color.BLACK, thickness=2)\n",
    "\n",
    "    # Convert MediaPipe results to KeyPoints\n",
    "    key_points = sv.KeyPoints.from_mediapipe(results, resolution_wh=image.size)\n",
    "\n",
    "    # Annotate the image\n",
    "    annotated_image = edge_annotator.annotate(scene=image, key_points=key_points)\n",
    "\n",
    "    # Save or display the annotated image\n",
    "    annotated_image.show()  # Or use annotated_image.save('output_path.jpg')\n",
    "else:\n",
    "    print(\"No face landmarks found in the image.\")"
   ],
   "id": "35fc7f8a161c2797",
   "outputs": [],
   "execution_count": 5
  },
  {
   "metadata": {},
   "cell_type": "code",
   "source": "",
   "id": "72e0100b26fa77d4",
   "outputs": [],
   "execution_count": null
  },
  {
   "metadata": {},
   "cell_type": "code",
   "outputs": [],
   "execution_count": null,
   "source": "",
   "id": "fe01a6cad7c18467"
  }
 ],
 "metadata": {
  "kernelspec": {
   "display_name": "Python 3",
   "language": "python",
   "name": "python3"
  },
  "language_info": {
   "codemirror_mode": {
    "name": "ipython",
    "version": 2
   },
   "file_extension": ".py",
   "mimetype": "text/x-python",
   "name": "python",
   "nbconvert_exporter": "python",
   "pygments_lexer": "ipython2",
   "version": "2.7.6"
  }
 },
 "nbformat": 4,
 "nbformat_minor": 5
}
