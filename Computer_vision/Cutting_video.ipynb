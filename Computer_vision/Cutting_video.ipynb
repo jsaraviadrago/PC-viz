{
 "cells": [
  {
   "cell_type": "code",
   "id": "initial_id",
   "metadata": {
    "collapsed": true
   },
   "source": [
    "#!pip install --trusted-host pypi.python.org moviepy\n",
    "#!pip install imageio-ffmpeg\n",
    "#!pip install --trusted-host pypi.python.org moviepy\n",
    "#!pip install imageio-ffmpeg"
   ],
   "outputs": [],
   "execution_count": null
  },
  {
   "metadata": {
    "ExecuteTime": {
     "end_time": "2024-08-22T19:53:54.161113Z",
     "start_time": "2024-08-22T19:53:53.277499Z"
    }
   },
   "cell_type": "code",
   "source": "from moviepy.video.io.ffmpeg_tools import ffmpeg_extract_subclip",
   "id": "115c93dcbbd73a3",
   "outputs": [],
   "execution_count": 7
  },
  {
   "metadata": {
    "ExecuteTime": {
     "end_time": "2024-08-22T19:55:46.395170Z",
     "start_time": "2024-08-22T19:55:46.248749Z"
    }
   },
   "cell_type": "code",
   "source": [
    "# ffmpeg_extract_subclip(\"full.mp4\", start_seconds, end_seconds, targetname=\"cut.mp4\")\n",
    "\n",
    "# Extracting the subclip (time in seconds)\n",
    "ffmpeg_extract_subclip(\"C:\\\\Users\\\\JuanCarlosSaraviaDra\\\\Dropbox\\\\Object_detection\\\\Maradona_inglaterra_1986.mp4\", 5, 24, targetname=\"C:\\\\Users\\\\JuanCarlosSaraviaDra\\\\Dropbox\\\\Object_detection\\\\Maradona_inglaterra_cut_1986.mp4\")\n"
   ],
   "id": "bc0bc47d34a55050",
   "outputs": [
    {
     "name": "stdout",
     "output_type": "stream",
     "text": [
      "Moviepy - Running:\n",
      ">>> \"+ \" \".join(cmd)\n",
      "Moviepy - Command successful\n"
     ]
    }
   ],
   "execution_count": 9
  }
 ],
 "metadata": {
  "kernelspec": {
   "display_name": "Python 3",
   "language": "python",
   "name": "python3"
  },
  "language_info": {
   "codemirror_mode": {
    "name": "ipython",
    "version": 2
   },
   "file_extension": ".py",
   "mimetype": "text/x-python",
   "name": "python",
   "nbconvert_exporter": "python",
   "pygments_lexer": "ipython2",
   "version": "2.7.6"
  }
 },
 "nbformat": 4,
 "nbformat_minor": 5
}
