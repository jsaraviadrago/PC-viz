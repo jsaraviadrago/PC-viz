{
 "cells": [
  {
   "cell_type": "code",
   "id": "initial_id",
   "metadata": {
    "collapsed": true,
    "ExecuteTime": {
     "end_time": "2024-08-22T21:49:57.171331Z",
     "start_time": "2024-08-22T21:49:57.162052Z"
    }
   },
   "source": "from moviepy.editor import VideoFileClip\n",
   "outputs": [],
   "execution_count": 11
  },
  {
   "metadata": {
    "ExecuteTime": {
     "end_time": "2024-08-22T21:50:10.336657Z",
     "start_time": "2024-08-22T21:50:08.926446Z"
    }
   },
   "cell_type": "code",
   "source": [
    "# Define the input video file and output audio file\n",
    "\n",
    "mp4_file = \"C:\\\\Users\\\\JuanCarlosSaraviaDra\\\\Dropbox\\\\Object_detection\\\\Maradona_inglaterra_cut_1986_prueba.mp4\"\n",
    "mp3_file = \"audio_maradona.mp3\"\n",
    "\n",
    "# Load the video clip\n",
    "video_clip = VideoFileClip(mp4_file)\n",
    "\n",
    "# Extract the audio from the video clip\n",
    "audio_clip = video_clip.audio\n",
    "\n",
    "# Write the audio to a separate file\n",
    "audio_clip.write_audiofile(mp3_file)\n",
    "\n",
    "# Close the video and audio clips\n",
    "audio_clip.close()\n",
    "video_clip.close()\n",
    "\n"
   ],
   "id": "8612c25920d67bf",
   "outputs": [
    {
     "name": "stdout",
     "output_type": "stream",
     "text": [
      "MoviePy - Writing audio in audio_maradona.mp3\n"
     ]
    },
    {
     "name": "stderr",
     "output_type": "stream",
     "text": [
      "                                                                   \r"
     ]
    },
    {
     "name": "stdout",
     "output_type": "stream",
     "text": [
      "MoviePy - Done.\n"
     ]
    }
   ],
   "execution_count": 12
  },
  {
   "metadata": {},
   "cell_type": "code",
   "outputs": [],
   "execution_count": null,
   "source": "",
   "id": "82bcbcca76dc54"
  }
 ],
 "metadata": {
  "kernelspec": {
   "display_name": "Python 3",
   "language": "python",
   "name": "python3"
  },
  "language_info": {
   "codemirror_mode": {
    "name": "ipython",
    "version": 2
   },
   "file_extension": ".py",
   "mimetype": "text/x-python",
   "name": "python",
   "nbconvert_exporter": "python",
   "pygments_lexer": "ipython2",
   "version": "2.7.6"
  }
 },
 "nbformat": 4,
 "nbformat_minor": 5
}
