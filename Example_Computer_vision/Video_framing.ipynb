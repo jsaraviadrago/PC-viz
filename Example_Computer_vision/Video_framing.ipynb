{
 "cells": [
  {
   "metadata": {},
   "cell_type": "markdown",
   "source": [
    "# Transforming the video into frame of the video of the almost goal of Pelé\n",
    "\n",
    "We have the video of Pele which was extracted from a Youtube channel.\n",
    "\n",
    "The first thing to do is putting in frames. One way to this is using the roboflow free version which is here[[1]](#1). Another way  to do this is by extracting every frame, a reference to this is this medium article here[[2]](#2). \n",
    "\n",
    "In the end I didn't use roboflow to get the frames but it helped get some ideas so I'm citing it. \n",
    "\n"
   ],
   "id": "752fa22cf85fc659"
  },
  {
   "metadata": {},
   "cell_type": "markdown",
   "source": [
    "### First extract all the frames from the video of Pelé\n",
    "\n",
    "- Import all the necessary libraries"
   ],
   "id": "6325bd00cac71a65"
  },
  {
   "metadata": {
    "ExecuteTime": {
     "end_time": "2024-08-22T14:50:56.066579Z",
     "start_time": "2024-08-22T14:50:55.862525Z"
    }
   },
   "cell_type": "code",
   "source": [
    "import cv2 # importing openCV library\n",
    "import os\n",
    "import requests\n",
    "import imageio # to extract important frames\n"
   ],
   "id": "924ce728f09ce6f7",
   "outputs": [],
   "execution_count": 1
  },
  {
   "metadata": {},
   "cell_type": "markdown",
   "source": [
    "# Este código es para sacar todos los frames de un video. \n",
    "\n",
    "### Con esto puedes sacar la información necesaria. \n",
    "\n",
    "- Pon el video\n",
    "- Crear un folder para guardar\n",
    "- Crea una captura de video\n",
    "\n",
    "### Esto es para todos los frames. "
   ],
   "id": "2bcbbcc3905ade0b"
  },
  {
   "metadata": {
    "ExecuteTime": {
     "end_time": "2024-08-22T14:51:12.658647Z",
     "start_time": "2024-08-22T14:51:11.152430Z"
    }
   },
   "cell_type": "code",
   "source": [
    "# Specify the path of the video (URL)\n",
    "video_url = \"https://github.com/jsaraviadrago/PC-viz/blob/main/Example_Computer_vision/videoplayback.mp4\"\n",
    "\n",
    "# Specify the output folder and local path to save the video\n",
    "output_folder = \"/home/juan-carlos/Dropbox/Object_detection/Example/\"\n",
    "video_path = os.path.join(output_folder, \"Example.mp4\")\n",
    "\n",
    "# Create the output folder if it doesn’t exist\n",
    "if not os.path.exists(output_folder):\n",
    "    os.makedirs(output_folder)\n",
    "\n",
    "# Download the video from GitHub\n",
    "response = requests.get(video_url)\n",
    "with open(video_path, 'wb') as video_file:\n",
    "    video_file.write(response.content)\n",
    "\n",
    "# Create a VideoCapture object to read the video file\n",
    "cap = cv2.VideoCapture(video_path)"
   ],
   "id": "3165f7b6ecc45ee4",
   "outputs": [],
   "execution_count": 2
  },
  {
   "metadata": {},
   "cell_type": "markdown",
   "source": [
    "### Get all the frames\n",
    "\n",
    "- Assign the number of frames\n",
    "- Save the output image in the created folder"
   ],
   "id": "d6797e44da87e808"
  },
  {
   "metadata": {
    "ExecuteTime": {
     "end_time": "2024-08-22T14:51:18.052995Z",
     "start_time": "2024-08-22T14:51:18.044833Z"
    }
   },
   "cell_type": "code",
   "source": [
    "\n",
    "# Get video properties\n",
    "frame_width = int(cap.get(cv2.CAP_PROP_FRAME_WIDTH))\n",
    "frame_height = int(cap.get(cv2.CAP_PROP_FRAME_HEIGHT))\n",
    "frame_rate = int(cap.get(cv2.CAP_PROP_FPS))\n",
    "\n",
    "print(f\"Frame Width: {frame_width}, Frame Height: {frame_height}, Frame Rate: {frame_rate}\")\n",
    "\n",
    "# Extract frames and save them in the output folder\n",
    "frame_number = 3\n",
    "\n",
    "while cap.isOpened():\n",
    "    ret, frame = cap.read()\n",
    "\n",
    "    if not ret:\n",
    "        break\n",
    "\n",
    "    # Save the frame as an image in the output folder\n",
    "    frame_filename = os.path.join(output_folder, f\"frame_{frame_number}.png\")\n",
    "    cv2.imwrite(frame_filename, frame)\n",
    "\n",
    "    frame_number += 1\n",
    "\n",
    "# When everything is done, release the capture\n",
    "cap.release()\n",
    "\n",
    "print(f\"Extracted {frame_number} frames.\")"
   ],
   "id": "a0c550ff18d3f298",
   "outputs": [
    {
     "name": "stdout",
     "output_type": "stream",
     "text": [
      "Frame Width: 0, Frame Height: 0, Frame Rate: 0\n",
      "Extracted 3 frames.\n"
     ]
    }
   ],
   "execution_count": 3
  },
  {
   "metadata": {},
   "cell_type": "markdown",
   "source": "### Now get important frames instead of all frames",
   "id": "5b54c1765527e176"
  },
  {
   "metadata": {
    "ExecuteTime": {
     "end_time": "2024-08-09T22:38:27.174651Z",
     "start_time": "2024-08-09T22:38:24.870117Z"
    }
   },
   "cell_type": "code",
   "source": [
    "# Specify the path of the video (URL)\n",
    "video_url = \"https://github.com/jsaraviadrago/Misc-Portfolio/blob/main/10.%20Object%20detection/Pele_Uruguay_1970.mp4?raw=true\"\n",
    "\n",
    "# Specify the output folder and local path to save the video\n",
    "output_folder = \"C:\\\\Users\\\\JuanCarlosSaraviaDra\\\\Dropbox\\\\Object_detection_Pele\"\n",
    "video_path = os.path.join(output_folder, \"Pele_Uruguay_1970.mp4\")\n",
    "\n",
    "# Create the output folder if it doesn’t exist\n",
    "if not os.path.exists(output_folder):\n",
    "    os.makedirs(output_folder)\n",
    "\n",
    "# Download the video from GitHub\n",
    "response = requests.get(video_url)\n",
    "with open(video_path, 'wb') as video_file:\n",
    "    video_file.write(response.content)\n",
    "\n",
    "# Create a VideoCapture object to read the video file\n",
    "cap = cv2.VideoCapture(video_path)"
   ],
   "id": "f6ac34e075d6ac8f",
   "outputs": [],
   "execution_count": 22
  },
  {
   "metadata": {},
   "cell_type": "markdown",
   "source": [
    "### Now get specific frames\n",
    "\n",
    "The problem here is  that it is necessary to make the \n",
    "\n",
    "```\n",
    "hist_threshold = 0.1 \n",
    "```\n",
    "Needs to be very small so I will extract all the frames. \n",
    "\n",
    "\n"
   ],
   "id": "9532fd3b36348c37"
  },
  {
   "metadata": {},
   "cell_type": "code",
   "source": [
    "# Get video properties\n",
    "frame_width = int(cap.get(cv2.CAP_PROP_FRAME_WIDTH))\n",
    "frame_height = int(cap.get(cv2.CAP_PROP_FRAME_HEIGHT))\n",
    "frame_rate = int(cap.get(cv2.CAP_PROP_FPS))\n",
    "\n",
    "print(f\"Frame Width: {frame_width}, Frame Height: {frame_height}, Frame Rate: {frame_rate}\")\n",
    "\n",
    "# Initialize variables to store the previous frame and its histogram\n",
    "prev_frame = None\n",
    "prev_hist = None\n",
    "\n",
    "# Threshold for histogram difference to detect keyframes\n",
    "hist_threshold = 0.1  # You can adjust this value as needed\n",
    "\n",
    "# List to store the keyframes\n",
    "keyframes = []\n",
    "\n",
    "# Extract keyframes and save them in the output folder\n",
    "frame_number = 0\n",
    "\n",
    "while cap.isOpened():\n",
    "    ret, frame = cap.read()\n",
    "\n",
    "    if not ret:\n",
    "        break\n",
    "\n",
    "    # Convert the frame to grayscale\n",
    "    gray_frame = cv2.cvtColor(frame, cv2.COLOR_BGR2GRAY)\n",
    "\n",
    "    # Compute the histogram of the grayscale frame\n",
    "    hist = cv2.calcHist([gray_frame], [0], None, [256], [0, 256])\n",
    "    hist = hist / hist.sum()  # Normalize the histogram\n",
    "\n",
    "    # Compare the histogram with the previous frame’s histogram\n",
    "    if prev_hist is not None and cv2.compareHist(prev_hist, hist, cv2.HISTCMP_BHATTACHARYYA) > hist_threshold:\n",
    "        keyframes.append(frame)\n",
    "\n",
    "        # Save the keyframe as an image in the output folder\n",
    "        keyframe_filename = os.path.join(output_folder, f\"keyframe_{frame_number}.png\")\n",
    "        cv2.imwrite(keyframe_filename, frame)\n",
    "        print(f\"Keyframe saved: {keyframe_filename}\")\n",
    "\n",
    "    # Update the previous frame and histogram\n",
    "    prev_frame = gray_frame.copy()\n",
    "    prev_hist = hist.copy()\n",
    "\n",
    "    frame_number += 1\n",
    "\n",
    "# Release the video capture object\n",
    "cap.release()\n",
    "\n",
    "print(f\"Extracted {len(keyframes)} keyframes.\")"
   ],
   "id": "6903801d95cedb36",
   "outputs": [],
   "execution_count": null
  },
  {
   "metadata": {},
   "cell_type": "markdown",
   "source": [
    "### Reference\n",
    "\n",
    "<a id=\"1\">[1]</a> \n",
    "[Roboflow](https://blog.roboflow.com/using-video-computer-vision/)\n",
    "\n",
    "<a id=\"2\">[2]</a>\n",
    "[Skannai](https://skannai.medium.com/extracting-frames-from-a-video-by-using-opencv-machine-learning-22d832b43d6c) \n",
    "\n",
    "\n",
    "\n"
   ],
   "id": "76e19b1efdb751a4"
  },
  {
   "metadata": {},
   "cell_type": "code",
   "outputs": [],
   "execution_count": null,
   "source": "",
   "id": "f732673e12ef625f"
  }
 ],
 "metadata": {
  "kernelspec": {
   "display_name": "Python 3",
   "language": "python",
   "name": "python3"
  },
  "language_info": {
   "codemirror_mode": {
    "name": "ipython",
    "version": 2
   },
   "file_extension": ".py",
   "mimetype": "text/x-python",
   "name": "python",
   "nbconvert_exporter": "python",
   "pygments_lexer": "ipython2",
   "version": "2.7.6"
  }
 },
 "nbformat": 4,
 "nbformat_minor": 5
}
