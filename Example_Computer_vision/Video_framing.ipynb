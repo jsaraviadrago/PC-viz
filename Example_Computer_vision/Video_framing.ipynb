{
 "cells": [
  {
   "metadata": {},
   "cell_type": "markdown",
   "source": [
    "# Transformando el video en frames primero\n",
    "\n",
    "Este es un video de unas personas entrando a una tienda. \n",
    "\n",
    "La primera cosa que se tiene que hacer es poner todo en frames. Esto también lo puedes hacer con Roboflow aquí.[[1]](#1). Otra forma es extraer todos los frames utilizando OPENCV[[2]](#2). \n",
    "\n",
    "In the end I didn't use roboflow to get the frames but it helped get some ideas so I'm citing it. \n",
    "\n"
   ],
   "id": "752fa22cf85fc659"
  },
  {
   "metadata": {},
   "cell_type": "markdown",
   "source": [
    "### Primero es extraer todos los frames \n",
    "\n",
    "- Importar todas las librerias. "
   ],
   "id": "6325bd00cac71a65"
  },
  {
   "metadata": {
    "ExecuteTime": {
     "end_time": "2024-11-19T14:48:55.021730Z",
     "start_time": "2024-11-19T14:48:54.990263Z"
    }
   },
   "cell_type": "code",
   "source": [
    "import cv2 # importing openCV library\n",
    "import os\n",
    "import requests\n",
    "import imageio # to extract important frames\n"
   ],
   "id": "924ce728f09ce6f7",
   "outputs": [],
   "execution_count": 2
  },
  {
   "metadata": {},
   "cell_type": "markdown",
   "source": [
    "# Este código es para sacar todos los frames de un video. \n",
    "\n",
    "### Con esto puedes sacar la información necesaria. \n",
    "\n",
    "- Pon el video\n",
    "- Crear un folder para guardar\n",
    "- Crea una captura de video\n",
    "\n",
    "### Esto es para todos los frames. "
   ],
   "id": "2bcbbcc3905ade0b"
  },
  {
   "metadata": {
    "ExecuteTime": {
     "end_time": "2024-11-19T15:10:49.950476Z",
     "start_time": "2024-11-19T15:10:49.104753Z"
    }
   },
   "cell_type": "code",
   "source": [
    "# Specify the path of the video (URL)\n",
    "video_url = \"https://raw.githubusercontent.com/jsaraviadrago/PC-viz/main/Example_Computer_vision/videoplayback.mp4\"\n",
    "\n",
    "# Specify the output folder and local path to save the video\n",
    "output_folder = \"/home/juan-carlos/Dropbox/Object_detection/Example/\"\n",
    "video_path = os.path.join(output_folder, \"Example.mp4\")\n",
    "\n",
    "# Create the output folder if it doesn’t exist\n",
    "if not os.path.exists(output_folder):\n",
    "    os.makedirs(output_folder)\n",
    "\n",
    "# Download the video from GitHub\n",
    "response = requests.get(video_url)\n",
    "with open(video_path, 'wb') as video_file:\n",
    "    video_file.write(response.content)\n",
    "\n",
    "# Create a VideoCapture object to read the video file\n",
    "cap = cv2.VideoCapture(video_path)"
   ],
   "id": "3165f7b6ecc45ee4",
   "outputs": [],
   "execution_count": 12
  },
  {
   "metadata": {},
   "cell_type": "markdown",
   "source": [
    "### Conseguir todos los frames. \n",
    "\n",
    "- Tienes que asignar el número de \n",
    "- Save the output image in the created folder"
   ],
   "id": "d6797e44da87e808"
  },
  {
   "metadata": {
    "ExecuteTime": {
     "end_time": "2024-11-19T15:11:03.851491Z",
     "start_time": "2024-11-19T15:10:52.953280Z"
    }
   },
   "cell_type": "code",
   "source": [
    "\n",
    "# Get video properties\n",
    "frame_width = int(cap.get(cv2.CAP_PROP_FRAME_WIDTH))\n",
    "frame_height = int(cap.get(cv2.CAP_PROP_FRAME_HEIGHT))\n",
    "frame_rate = int(cap.get(cv2.CAP_PROP_FPS))\n",
    "\n",
    "print(f\"Frame Width: {frame_width}, Frame Height: {frame_height}, Frame Rate: {frame_rate}\")\n",
    "\n",
    "# Extract frames and save them in the output folder\n",
    "frame_number = 1 # starting number\n",
    "\n",
    "while cap.isOpened():\n",
    "    ret, frame = cap.read()\n",
    "\n",
    "    if not ret:\n",
    "        break\n",
    "\n",
    "    # Save the frame as an image in the output folder\n",
    "    frame_filename = os.path.join(output_folder, f\"frame_{frame_number}.png\")\n",
    "    cv2.imwrite(frame_filename, frame)\n",
    "\n",
    "    frame_number += 1\n",
    "\n",
    "# When everything is done, release the capture\n",
    "cap.release()\n",
    "\n",
    "print(f\"Extracted {frame_number} frames.\")"
   ],
   "id": "a0c550ff18d3f298",
   "outputs": [
    {
     "name": "stdout",
     "output_type": "stream",
     "text": [
      "Frame Width: 480, Frame Height: 360, Frame Rate: 6\n",
      "Extracted 727 frames.\n"
     ]
    }
   ],
   "execution_count": 13
  },
  {
   "metadata": {},
   "cell_type": "markdown",
   "source": "",
   "id": "5b54c1765527e176"
  },
  {
   "metadata": {},
   "cell_type": "markdown",
   "source": "",
   "id": "9532fd3b36348c37"
  },
  {
   "metadata": {},
   "cell_type": "markdown",
   "source": [
    "### Reference\n",
    "\n",
    "<a id=\"1\">[1]</a> \n",
    "[Roboflow](https://blog.roboflow.com/using-video-computer-vision/)\n",
    "\n",
    "<a id=\"2\">[2]</a>\n",
    "[Skannai](https://skannai.medium.com/extracting-frames-from-a-video-by-using-opencv-machine-learning-22d832b43d6c) \n",
    "\n",
    "\n",
    "\n"
   ],
   "id": "76e19b1efdb751a4"
  },
  {
   "metadata": {},
   "cell_type": "code",
   "outputs": [],
   "execution_count": null,
   "source": "",
   "id": "f732673e12ef625f"
  }
 ],
 "metadata": {
  "kernelspec": {
   "display_name": "Python 3",
   "language": "python",
   "name": "python3"
  },
  "language_info": {
   "codemirror_mode": {
    "name": "ipython",
    "version": 2
   },
   "file_extension": ".py",
   "mimetype": "text/x-python",
   "name": "python",
   "nbconvert_exporter": "python",
   "pygments_lexer": "ipython2",
   "version": "2.7.6"
  }
 },
 "nbformat": 4,
 "nbformat_minor": 5
}
