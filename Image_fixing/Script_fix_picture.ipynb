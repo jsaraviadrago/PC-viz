{
 "cells": [
  {
   "cell_type": "code",
   "id": "initial_id",
   "metadata": {
    "collapsed": true,
    "ExecuteTime": {
     "end_time": "2024-12-16T17:07:47.021613Z",
     "start_time": "2024-12-16T17:07:46.809246Z"
    }
   },
   "source": [
    "import cv2 \n",
    "import numpy as np\n",
    "import os"
   ],
   "outputs": [],
   "execution_count": 4
  },
  {
   "metadata": {
    "ExecuteTime": {
     "end_time": "2024-12-16T17:09:42.316433Z",
     "start_time": "2024-12-16T17:09:41.636363Z"
    }
   },
   "cell_type": "code",
   "source": [
    "def enhance_image(image_path):\n",
    "    \"\"\"\n",
    "    Enhance a low-resolution image using multiple OpenCV techniques\n",
    "    \n",
    "    Args:\n",
    "        image_path (str): Path to the input low-resolution image\n",
    "    \n",
    "    Returns:\n",
    "        dict: Dictionary of enhanced images using different methods\n",
    "    \"\"\"\n",
    "    # Read the original image\n",
    "    original_img = cv2.imread(image_path)\n",
    "    \n",
    "    if original_img is None:\n",
    "        raise ValueError(f\"Unable to read image from {image_path}\")\n",
    "    \n",
    "    # Get the directory of the original image for saving outputs\n",
    "    output_dir = os.path.dirname(image_path)\n",
    "    \n",
    "    # 1. Bicubic Interpolation Upscaling\n",
    "    bicubic_upscaled = cv2.resize(original_img, None, \n",
    "                                  fx=2, fy=2, \n",
    "                                  interpolation=cv2.INTER_CUBIC)\n",
    "    \n",
    "    # 2. Lanczos Interpolation Upscaling (Higher Quality)\n",
    "    lanczos_upscaled = cv2.resize(original_img, None, \n",
    "                                  fx=2, fy=2, \n",
    "                                  interpolation=cv2.INTER_LANCZOS4)\n",
    "    \n",
    "    # 3. Sharpening Filter\n",
    "    kernel_sharpening = np.array([[-1,-1,-1], \n",
    "                                  [-1, 9,-1], \n",
    "                                  [-1,-1,-1]])\n",
    "    sharpened = cv2.filter2D(lanczos_upscaled, -1, kernel_sharpening)\n",
    "    \n",
    "    # 4. Noise Reduction\n",
    "    denoised = cv2.fastNlMeansDenoisingColored(lanczos_upscaled, None, 10, 10, 7, 21)\n",
    "    \n",
    "    # Collect results\n",
    "    enhanced_images = {\n",
    "        'original': original_img,\n",
    "        'bicubic_upscaled': bicubic_upscaled,\n",
    "        'lanczos_upscaled': lanczos_upscaled,\n",
    "        'sharpened': sharpened,\n",
    "        'denoised': denoised\n",
    "    }\n",
    "    \n",
    "    # Save images\n",
    "    for name, img in enhanced_images.items():\n",
    "        output_path = os.path.join(output_dir, f\"{name}_enhanced.png\")\n",
    "        cv2.imwrite(output_path, img)\n",
    "    \n",
    "    return enhanced_images\n",
    "\n",
    "# Example Usage\n",
    "image_path = '/home/juan-carlos/PycharmProjects/PC-viz/Image_fixing/Nico_Marinovich.png'\n",
    "\n",
    "try:\n",
    "    enhanced_images = enhance_image(image_path)\n",
    "    print(\"Image enhancement completed successfully!\")\n",
    "    \n",
    "    # Print out basic image information\n",
    "    for name, img in enhanced_images.items():\n",
    "        print(f\"{name} image shape: {img.shape}\")\n",
    "except Exception as e:\n",
    "    print(f\"Error during image enhancement: {e}\")"
   ],
   "id": "bedcb8f8b9db2bea",
   "outputs": [
    {
     "name": "stdout",
     "output_type": "stream",
     "text": [
      "Image enhancement completed successfully!\n",
      "original image shape: (438, 309, 3)\n",
      "bicubic_upscaled image shape: (876, 618, 3)\n",
      "lanczos_upscaled image shape: (876, 618, 3)\n",
      "sharpened image shape: (876, 618, 3)\n",
      "denoised image shape: (876, 618, 3)\n"
     ]
    }
   ],
   "execution_count": 6
  },
  {
   "metadata": {},
   "cell_type": "code",
   "outputs": [],
   "execution_count": null,
   "source": "",
   "id": "ad62f66606f2f0d9"
  }
 ],
 "metadata": {
  "kernelspec": {
   "display_name": "Python 3",
   "language": "python",
   "name": "python3"
  },
  "language_info": {
   "codemirror_mode": {
    "name": "ipython",
    "version": 2
   },
   "file_extension": ".py",
   "mimetype": "text/x-python",
   "name": "python",
   "nbconvert_exporter": "python",
   "pygments_lexer": "ipython2",
   "version": "2.7.6"
  }
 },
 "nbformat": 4,
 "nbformat_minor": 5
}
